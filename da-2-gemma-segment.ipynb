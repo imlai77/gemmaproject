{
 "cells": [
  {
   "cell_type": "markdown",
   "id": "e6237c89",
   "metadata": {
    "papermill": {
     "duration": 0.003209,
     "end_time": "2024-04-30T01:59:35.145972",
     "exception": false,
     "start_time": "2024-04-30T01:59:35.142763",
     "status": "completed"
    },
    "tags": []
   },
   "source": [
    "# Install Keras and keras-nlp"
   ]
  },
  {
   "cell_type": "code",
   "execution_count": 1,
   "id": "3488797d",
   "metadata": {
    "_cell_guid": "b1076dfc-b9ad-4769-8c92-a6c4dae69d19",
    "_uuid": "8f2839f25d086af736a60e9eeb907d3b93b6e0e5",
    "execution": {
     "iopub.execute_input": "2024-04-30T01:59:35.153094Z",
     "iopub.status.busy": "2024-04-30T01:59:35.152753Z",
     "iopub.status.idle": "2024-04-30T02:00:07.327935Z",
     "shell.execute_reply": "2024-04-30T02:00:07.326942Z"
    },
    "papermill": {
     "duration": 32.181449,
     "end_time": "2024-04-30T02:00:07.330260",
     "exception": false,
     "start_time": "2024-04-30T01:59:35.148811",
     "status": "completed"
    },
    "tags": []
   },
   "outputs": [
    {
     "name": "stdout",
     "output_type": "stream",
     "text": [
      "\u001b[31mERROR: pip's dependency resolver does not currently take into account all the packages that are installed. This behaviour is the source of the following dependency conflicts.\r\n",
      "tensorflow-decision-forests 1.8.1 requires wurlitzer, which is not installed.\u001b[0m\u001b[31m\r\n",
      "\u001b[0m\u001b[31mERROR: pip's dependency resolver does not currently take into account all the packages that are installed. This behaviour is the source of the following dependency conflicts.\r\n",
      "tensorflow-decision-forests 1.8.1 requires wurlitzer, which is not installed.\r\n",
      "tensorflow 2.15.0 requires keras<2.16,>=2.15.0, but you have keras 3.3.3 which is incompatible.\u001b[0m\u001b[31m\r\n",
      "\u001b[0m"
     ]
    }
   ],
   "source": [
    "!pip install -q -U keras-nlp\n",
    "!pip install -q -U keras>=3"
   ]
  },
  {
   "cell_type": "markdown",
   "id": "6ae5cca4",
   "metadata": {
    "papermill": {
     "duration": 0.002814,
     "end_time": "2024-04-30T02:00:07.336274",
     "exception": false,
     "start_time": "2024-04-30T02:00:07.333460",
     "status": "completed"
    },
    "tags": []
   },
   "source": [
    "Import packages"
   ]
  },
  {
   "cell_type": "code",
   "execution_count": 2,
   "id": "b0148734",
   "metadata": {
    "execution": {
     "iopub.execute_input": "2024-04-30T02:00:07.343795Z",
     "iopub.status.busy": "2024-04-30T02:00:07.343492Z",
     "iopub.status.idle": "2024-04-30T02:00:19.586839Z",
     "shell.execute_reply": "2024-04-30T02:00:19.586075Z"
    },
    "papermill": {
     "duration": 12.250137,
     "end_time": "2024-04-30T02:00:19.589214",
     "exception": false,
     "start_time": "2024-04-30T02:00:07.339077",
     "status": "completed"
    },
    "tags": []
   },
   "outputs": [
    {
     "name": "stderr",
     "output_type": "stream",
     "text": [
      "2024-04-30 02:00:10.960777: E external/local_xla/xla/stream_executor/cuda/cuda_dnn.cc:9261] Unable to register cuDNN factory: Attempting to register factory for plugin cuDNN when one has already been registered\n",
      "2024-04-30 02:00:10.960871: E external/local_xla/xla/stream_executor/cuda/cuda_fft.cc:607] Unable to register cuFFT factory: Attempting to register factory for plugin cuFFT when one has already been registered\n",
      "2024-04-30 02:00:11.050919: E external/local_xla/xla/stream_executor/cuda/cuda_blas.cc:1515] Unable to register cuBLAS factory: Attempting to register factory for plugin cuBLAS when one has already been registered\n"
     ]
    }
   ],
   "source": [
    "import os\n",
    "os.environ[\"KERAS_BACKEND\"] = \"jax\" # you can also use tensorflow or torch\n",
    "os.environ[\"XLA_PYTHON_CLIENT_MEM_FRACTION\"] = \"1.00\" # avoid memory fragmentation on JAX backend.\n",
    "\n",
    "import keras\n",
    "import keras_nlp"
   ]
  },
  {
   "cell_type": "markdown",
   "id": "29725a9a",
   "metadata": {
    "papermill": {
     "duration": 0.002819,
     "end_time": "2024-04-30T02:00:19.595330",
     "exception": false,
     "start_time": "2024-04-30T02:00:19.592511",
     "status": "completed"
    },
    "tags": []
   },
   "source": [
    "Load the gemma_lm from the input, the instruct_2b version"
   ]
  },
  {
   "cell_type": "code",
   "execution_count": 3,
   "id": "c249f44e",
   "metadata": {
    "execution": {
     "iopub.execute_input": "2024-04-30T02:00:19.604045Z",
     "iopub.status.busy": "2024-04-30T02:00:19.603541Z",
     "iopub.status.idle": "2024-04-30T02:01:16.452328Z",
     "shell.execute_reply": "2024-04-30T02:01:16.451528Z"
    },
    "papermill": {
     "duration": 56.855878,
     "end_time": "2024-04-30T02:01:16.454983",
     "exception": false,
     "start_time": "2024-04-30T02:00:19.599105",
     "status": "completed"
    },
    "tags": []
   },
   "outputs": [
    {
     "name": "stderr",
     "output_type": "stream",
     "text": [
      "Attaching 'metadata.json' from model 'keras/gemma/keras/gemma_instruct_2b_en/2' to your Kaggle notebook...\n",
      "Attaching 'metadata.json' from model 'keras/gemma/keras/gemma_instruct_2b_en/2' to your Kaggle notebook...\n",
      "Attaching 'task.json' from model 'keras/gemma/keras/gemma_instruct_2b_en/2' to your Kaggle notebook...\n",
      "Attaching 'config.json' from model 'keras/gemma/keras/gemma_instruct_2b_en/2' to your Kaggle notebook...\n",
      "Attaching 'metadata.json' from model 'keras/gemma/keras/gemma_instruct_2b_en/2' to your Kaggle notebook...\n",
      "Attaching 'metadata.json' from model 'keras/gemma/keras/gemma_instruct_2b_en/2' to your Kaggle notebook...\n",
      "Attaching 'config.json' from model 'keras/gemma/keras/gemma_instruct_2b_en/2' to your Kaggle notebook...\n",
      "Attaching 'config.json' from model 'keras/gemma/keras/gemma_instruct_2b_en/2' to your Kaggle notebook...\n",
      "Attaching 'model.weights.h5' from model 'keras/gemma/keras/gemma_instruct_2b_en/2' to your Kaggle notebook...\n",
      "Attaching 'metadata.json' from model 'keras/gemma/keras/gemma_instruct_2b_en/2' to your Kaggle notebook...\n",
      "Attaching 'metadata.json' from model 'keras/gemma/keras/gemma_instruct_2b_en/2' to your Kaggle notebook...\n",
      "Attaching 'preprocessor.json' from model 'keras/gemma/keras/gemma_instruct_2b_en/2' to your Kaggle notebook...\n",
      "Attaching 'tokenizer.json' from model 'keras/gemma/keras/gemma_instruct_2b_en/2' to your Kaggle notebook...\n",
      "Attaching 'tokenizer.json' from model 'keras/gemma/keras/gemma_instruct_2b_en/2' to your Kaggle notebook...\n",
      "Attaching 'assets/tokenizer/vocabulary.spm' from model 'keras/gemma/keras/gemma_instruct_2b_en/2' to your Kaggle notebook...\n",
      "normalizer.cc(51) LOG(INFO) precompiled_charsmap is empty. use identity normalization.\n"
     ]
    }
   ],
   "source": [
    "gemma_lm = keras_nlp.models.GemmaCausalLM.from_preset(\"gemma_instruct_2b_en\")"
   ]
  },
  {
   "cell_type": "markdown",
   "id": "005222be",
   "metadata": {
    "papermill": {
     "duration": 0.004105,
     "end_time": "2024-04-30T02:01:16.463879",
     "exception": false,
     "start_time": "2024-04-30T02:01:16.459774",
     "status": "completed"
    },
    "tags": []
   },
   "source": [
    "import time package to measure execution time and also define function to calculate response time"
   ]
  },
  {
   "cell_type": "code",
   "execution_count": 4,
   "id": "bd45e095",
   "metadata": {
    "execution": {
     "iopub.execute_input": "2024-04-30T02:01:16.474286Z",
     "iopub.status.busy": "2024-04-30T02:01:16.473576Z",
     "iopub.status.idle": "2024-04-30T02:03:43.823793Z",
     "shell.execute_reply": "2024-04-30T02:03:43.822653Z"
    },
    "papermill": {
     "duration": 147.358167,
     "end_time": "2024-04-30T02:03:43.826293",
     "exception": false,
     "start_time": "2024-04-30T02:01:16.468126",
     "status": "completed"
    },
    "tags": []
   },
   "outputs": [
    {
     "name": "stdout",
     "output_type": "stream",
     "text": [
      "Iteration 1 - Question: what is sklearn?\n",
      "Response: what is sklearn?\n",
      "\n",
      "**scikit-learn** is a Python library for machine learning that provides a wide range of algorithms and tools for data preprocessing, model training, and evaluation. It is widely used in various industries, including finance, healthcare, and research.\n",
      "\n",
      "**Key Features of scikit-learn:**\n",
      "\n",
      "* **Large Collection of Algorithms:** It offers numerous algorithms for different machine learning tasks, including linear regression, decision trees, support vector machines, and neural networks.\n",
      "* **Data Preprocessing Tools:** It provides convenient functions for data cleaning, transformation, and feature engineering.\n",
      "* **Model Training and Evaluation:** It includes tools for training, evaluating, and tuning models, ensuring that they perform well on unseen data.\n",
      "* **Cross-Platform Support:** It is compatible with various programming languages and operating systems, making it accessible to a wide range of users.\n",
      "* **Extensive Documentation and Community Support:** It is well-documented with clear tutorials and a large online community of\n",
      "Time taken: 38.36010241508484 seconds\n",
      "Iteration 2 - Question: what is sklearn?\n",
      "Response: what is sklearn?\n",
      "\n",
      "**scikit-learn** is a Python library for machine learning that provides a wide range of algorithms and tools for data preprocessing, model training, and evaluation. It is widely used in various industries, including finance, healthcare, and research.\n",
      "\n",
      "**Key Features of scikit-learn:**\n",
      "\n",
      "* **Large Collection of Algorithms:** It offers numerous algorithms for different machine learning tasks, including linear regression, decision trees, support vector machines, and neural networks.\n",
      "* **Data Preprocessing Tools:** It provides convenient functions for data cleaning, transformation, and feature engineering.\n",
      "* **Model Training and Evaluation:** It includes tools for training, evaluating, and tuning models, ensuring that they perform well on unseen data.\n",
      "* **Cross-Platform Support:** It is compatible with various programming languages and operating systems, making it accessible to a wide range of users.\n",
      "* **Extensive Documentation and Community Support:** It is well-documented with clear tutorials and a large online community of\n",
      "Time taken: 8.060491800308228 seconds\n",
      "Iteration 3 - Question: what is sklearn?\n",
      "Response: what is sklearn?\n",
      "\n",
      "**scikit-learn** is a Python library for machine learning that provides a wide range of algorithms and tools for data preprocessing, model training, and evaluation. It is widely used in various industries, including finance, healthcare, and research.\n",
      "\n",
      "**Key Features of scikit-learn:**\n",
      "\n",
      "* **Large Collection of Algorithms:** It offers numerous algorithms for different machine learning tasks, including linear regression, decision trees, support vector machines, and neural networks.\n",
      "* **Data Preprocessing Tools:** It provides convenient functions for data cleaning, transformation, and feature engineering.\n",
      "* **Model Training and Evaluation:** It includes tools for training, evaluating, and tuning models, ensuring that they perform well on unseen data.\n",
      "* **Cross-Platform Support:** It is compatible with various programming languages and operating systems, making it accessible to a wide range of users.\n",
      "* **Extensive Documentation and Community Support:** It is well-documented with clear tutorials and a large online community of\n",
      "Time taken: 8.07213830947876 seconds\n",
      "Iteration 4 - Question: what is sklearn?\n",
      "Response: what is sklearn?\n",
      "\n",
      "**scikit-learn** is a Python library for machine learning that provides a wide range of algorithms and tools for data preprocessing, model training, and evaluation. It is widely used in various industries, including finance, healthcare, and research.\n",
      "\n",
      "**Key Features of scikit-learn:**\n",
      "\n",
      "* **Large Collection of Algorithms:** It offers numerous algorithms for different machine learning tasks, including linear regression, decision trees, support vector machines, and neural networks.\n",
      "* **Data Preprocessing Tools:** It provides convenient functions for data cleaning, transformation, and feature engineering.\n",
      "* **Model Training and Evaluation:** It includes tools for training, evaluating, and tuning models, ensuring that they perform well on unseen data.\n",
      "* **Cross-Platform Support:** It is compatible with various programming languages and operating systems, making it accessible to a wide range of users.\n",
      "* **Extensive Documentation and Community Support:** It is well-documented with clear tutorials and a large online community of\n",
      "Time taken: 8.084487199783325 seconds\n",
      "Iteration 5 - Question: what is sklearn?\n",
      "Response: what is sklearn?\n",
      "\n",
      "**scikit-learn** is a Python library for machine learning that provides a wide range of algorithms and tools for data preprocessing, model training, and evaluation. It is widely used in various industries, including finance, healthcare, and research.\n",
      "\n",
      "**Key Features of scikit-learn:**\n",
      "\n",
      "* **Large Collection of Algorithms:** It offers numerous algorithms for different machine learning tasks, including linear regression, decision trees, support vector machines, and neural networks.\n",
      "* **Data Preprocessing Tools:** It provides convenient functions for data cleaning, transformation, and feature engineering.\n",
      "* **Model Training and Evaluation:** It includes tools for training, evaluating, and tuning models, ensuring that they perform well on unseen data.\n",
      "* **Cross-Platform Support:** It is compatible with various programming languages and operating systems, making it accessible to a wide range of users.\n",
      "* **Extensive Documentation and Community Support:** It is well-documented with clear tutorials and a large online community of\n",
      "Time taken: 8.09613847732544 seconds\n",
      "Average time for question 'what is sklearn?': 14.134671640396117 seconds\n",
      "\n",
      "Iteration 1 - Question: what is linear regression?\n",
      "Response: what is linear regression?\n",
      "\n",
      "Linear regression is a statistical method that is used to find a straight line that best fits a set of data points. The line that is found by linear regression is called the least-squares line.\n",
      "\n",
      "The process of linear regression involves the following steps:\n",
      "\n",
      "1. **Gather data.** Collect a set of data points that are evenly distributed throughout the range of the independent variable.\n",
      "2. **Identify the independent and dependent variables.** The independent variable is the variable that is changed by the experimenter, while the dependent variable is the variable that is affected by the independent variable.\n",
      "3. **Fit a linear regression model.** Use a statistical software package to fit a linear regression model to the data.\n",
      "4. **Interpret the model.** The model can be used to make predictions about the dependent variable for new data points.\n",
      "\n",
      "Linear regression is a powerful tool for understanding relationships between variables. It is often used in a variety of fields, including business, science, and\n",
      "Time taken: 8.056451082229614 seconds\n",
      "Iteration 2 - Question: what is linear regression?\n",
      "Response: what is linear regression?\n",
      "\n",
      "Linear regression is a statistical method that is used to find a straight line that best fits a set of data points. The line that is found by linear regression is called the least-squares line.\n",
      "\n",
      "The process of linear regression involves the following steps:\n",
      "\n",
      "1. **Gather data.** Collect a set of data points that are evenly distributed throughout the range of the independent variable.\n",
      "2. **Identify the independent and dependent variables.** The independent variable is the variable that is changed by the experimenter, while the dependent variable is the variable that is affected by the independent variable.\n",
      "3. **Fit a linear regression model.** Use a statistical software package to fit a linear regression model to the data.\n",
      "4. **Interpret the model.** The model can be used to make predictions about the dependent variable for new data points.\n",
      "\n",
      "Linear regression is a powerful tool for understanding relationships between variables. It is often used in a variety of fields, including business, science, and\n",
      "Time taken: 8.065094470977783 seconds\n",
      "Iteration 3 - Question: what is linear regression?\n",
      "Response: what is linear regression?\n",
      "\n",
      "Linear regression is a statistical method that is used to find a straight line that best fits a set of data points. The line that is found by linear regression is called the least-squares line.\n",
      "\n",
      "The process of linear regression involves the following steps:\n",
      "\n",
      "1. **Gather data.** Collect a set of data points that are evenly distributed throughout the range of the independent variable.\n",
      "2. **Identify the independent and dependent variables.** The independent variable is the variable that is changed by the experimenter, while the dependent variable is the variable that is affected by the independent variable.\n",
      "3. **Fit a linear regression model.** Use a statistical software package to fit a linear regression model to the data.\n",
      "4. **Interpret the model.** The model can be used to make predictions about the dependent variable for new data points.\n",
      "\n",
      "Linear regression is a powerful tool for understanding relationships between variables. It is often used in a variety of fields, including business, science, and\n",
      "Time taken: 8.070482969284058 seconds\n",
      "Iteration 4 - Question: what is linear regression?\n",
      "Response: what is linear regression?\n",
      "\n",
      "Linear regression is a statistical method that is used to find a straight line that best fits a set of data points. The line that is found by linear regression is called the least-squares line.\n",
      "\n",
      "The process of linear regression involves the following steps:\n",
      "\n",
      "1. **Gather data.** Collect a set of data points that are evenly distributed throughout the range of the independent variable.\n",
      "2. **Identify the independent and dependent variables.** The independent variable is the variable that is changed by the experimenter, while the dependent variable is the variable that is affected by the independent variable.\n",
      "3. **Fit a linear regression model.** Use a statistical software package to fit a linear regression model to the data.\n",
      "4. **Interpret the model.** The model can be used to make predictions about the dependent variable for new data points.\n",
      "\n",
      "Linear regression is a powerful tool for understanding relationships between variables. It is often used in a variety of fields, including business, science, and\n",
      "Time taken: 8.080288171768188 seconds\n",
      "Iteration 5 - Question: what is linear regression?\n",
      "Response: what is linear regression?\n",
      "\n",
      "Linear regression is a statistical method that is used to find a straight line that best fits a set of data points. The line that is found by linear regression is called the least-squares line.\n",
      "\n",
      "The process of linear regression involves the following steps:\n",
      "\n",
      "1. **Gather data.** Collect a set of data points that are evenly distributed throughout the range of the independent variable.\n",
      "2. **Identify the independent and dependent variables.** The independent variable is the variable that is changed by the experimenter, while the dependent variable is the variable that is affected by the independent variable.\n",
      "3. **Fit a linear regression model.** Use a statistical software package to fit a linear regression model to the data.\n",
      "4. **Interpret the model.** The model can be used to make predictions about the dependent variable for new data points.\n",
      "\n",
      "Linear regression is a powerful tool for understanding relationships between variables. It is often used in a variety of fields, including business, science, and\n",
      "Time taken: 8.085013151168823 seconds\n",
      "Average time for question 'what is linear regression?': 8.071465969085693 seconds\n",
      "\n",
      "Iteration 1 - Question: perform a linear regression using sklearn given the data [[1,1],[1,2],[2,2],[2,3]]\n",
      "Response: perform a linear regression using sklearn given the data [[1,1],[1,2],[2,2],[2,3]]\n",
      "\n",
      "```python\n",
      "import numpy as np\n",
      "import pandas as pd\n",
      "import sklearn.linear_model\n",
      "\n",
      "# Create a DataFrame from the numpy array\n",
      "data = np.array([[1,1],[1,2],[2,2],[2,3]])\n",
      "df = pd.DataFrame(data, columns=[\"x\", \"y\"])\n",
      "\n",
      "# Split the data into training and testing sets\n",
      "X_train, X_test, y_train, y_test = train_test_split(df[\"x\"].values.reshape(-1, 1), df[\"y\"].values.reshape(-1, 1), test_size=0.2)\n",
      "\n",
      "# Create a linear regression model\n",
      "model = sklearn.linear_model.LinearRegression()\n",
      "\n",
      "# Train the model\n",
      "model.fit(X_train, y_train)\n",
      "\n",
      "\n",
      "Time taken: 7.25091028213501 seconds\n",
      "Iteration 2 - Question: perform a linear regression using sklearn given the data [[1,1],[1,2],[2,2],[2,3]]\n",
      "Response: perform a linear regression using sklearn given the data [[1,1],[1,2],[2,2],[2,3]]\n",
      "\n",
      "```python\n",
      "import numpy as np\n",
      "import pandas as pd\n",
      "import sklearn.linear_model\n",
      "\n",
      "# Create a DataFrame from the numpy array\n",
      "data = np.array([[1,1],[1,2],[2,2],[2,3]])\n",
      "df = pd.DataFrame(data, columns=[\"x\", \"y\"])\n",
      "\n",
      "# Split the data into training and testing sets\n",
      "X_train, X_test, y_train, y_test = train_test_split(df[\"x\"].values.reshape(-1, 1), df[\"y\"].values.reshape(-1, 1), test_size=0.2)\n",
      "\n",
      "# Create a linear regression model\n",
      "model = sklearn.linear_model.LinearRegression()\n",
      "\n",
      "# Train the model\n",
      "model.fit(X_train, y_train)\n",
      "\n",
      "\n",
      "Time taken: 7.2556915283203125 seconds\n",
      "Iteration 3 - Question: perform a linear regression using sklearn given the data [[1,1],[1,2],[2,2],[2,3]]\n",
      "Response: perform a linear regression using sklearn given the data [[1,1],[1,2],[2,2],[2,3]]\n",
      "\n",
      "```python\n",
      "import numpy as np\n",
      "import pandas as pd\n",
      "import sklearn.linear_model\n",
      "\n",
      "# Create a DataFrame from the numpy array\n",
      "data = np.array([[1,1],[1,2],[2,2],[2,3]])\n",
      "df = pd.DataFrame(data, columns=[\"x\", \"y\"])\n",
      "\n",
      "# Split the data into training and testing sets\n",
      "X_train, X_test, y_train, y_test = train_test_split(df[\"x\"].values.reshape(-1, 1), df[\"y\"].values.reshape(-1, 1), test_size=0.2)\n",
      "\n",
      "# Create a linear regression model\n",
      "model = sklearn.linear_model.LinearRegression()\n",
      "\n",
      "# Train the model\n",
      "model.fit(X_train, y_train)\n",
      "\n",
      "\n",
      "Time taken: 7.259912490844727 seconds\n",
      "Iteration 4 - Question: perform a linear regression using sklearn given the data [[1,1],[1,2],[2,2],[2,3]]\n",
      "Response: perform a linear regression using sklearn given the data [[1,1],[1,2],[2,2],[2,3]]\n",
      "\n",
      "```python\n",
      "import numpy as np\n",
      "import pandas as pd\n",
      "import sklearn.linear_model\n",
      "\n",
      "# Create a DataFrame from the numpy array\n",
      "data = np.array([[1,1],[1,2],[2,2],[2,3]])\n",
      "df = pd.DataFrame(data, columns=[\"x\", \"y\"])\n",
      "\n",
      "# Split the data into training and testing sets\n",
      "X_train, X_test, y_train, y_test = train_test_split(df[\"x\"].values.reshape(-1, 1), df[\"y\"].values.reshape(-1, 1), test_size=0.2)\n",
      "\n",
      "# Create a linear regression model\n",
      "model = sklearn.linear_model.LinearRegression()\n",
      "\n",
      "# Train the model\n",
      "model.fit(X_train, y_train)\n",
      "\n",
      "\n",
      "Time taken: 7.268502473831177 seconds\n",
      "Iteration 5 - Question: perform a linear regression using sklearn given the data [[1,1],[1,2],[2,2],[2,3]]\n",
      "Response: perform a linear regression using sklearn given the data [[1,1],[1,2],[2,2],[2,3]]\n",
      "\n",
      "```python\n",
      "import numpy as np\n",
      "import pandas as pd\n",
      "import sklearn.linear_model\n",
      "\n",
      "# Create a DataFrame from the numpy array\n",
      "data = np.array([[1,1],[1,2],[2,2],[2,3]])\n",
      "df = pd.DataFrame(data, columns=[\"x\", \"y\"])\n",
      "\n",
      "# Split the data into training and testing sets\n",
      "X_train, X_test, y_train, y_test = train_test_split(df[\"x\"].values.reshape(-1, 1), df[\"y\"].values.reshape(-1, 1), test_size=0.2)\n",
      "\n",
      "# Create a linear regression model\n",
      "model = sklearn.linear_model.LinearRegression()\n",
      "\n",
      "# Train the model\n",
      "model.fit(X_train, y_train)\n",
      "\n",
      "\n",
      "Time taken: 7.274949550628662 seconds\n",
      "Average time for question 'perform a linear regression using sklearn given the data [[1,1],[1,2],[2,2],[2,3]]': 7.261993265151977 seconds\n",
      "\n"
     ]
    }
   ],
   "source": [
    "from time import time\n",
    "\n",
    "questions = [\n",
    "    \"what is sklearn?\",\n",
    "    \"what is linear regression?\",\n",
    "    \"perform a linear regression using sklearn given the data [[1,1],[1,2],[2,2],[2,3]]\"\n",
    "]\n",
    "\n",
    "def measure_response_time(model, question):\n",
    "    start = time()\n",
    "    response = gemma_lm.generate(question, max_length=200)\n",
    "    elapsed_time = time() - start\n",
    "    return response, elapsed_time\n",
    "num_iterations = 5\n",
    "for question in questions:\n",
    "    total_elapsed_time = 0\n",
    "    for _ in range(num_iterations):\n",
    "        response, elapsed_time = measure_response_time(gemma_lm, question)\n",
    "        print(f\"Iteration {_ + 1} - Question: {question}\")\n",
    "        print(f\"Response: {response}\")\n",
    "        print(f\"Time taken: {elapsed_time} seconds\")\n",
    "        total_elapsed_time += elapsed_time\n",
    "    average_time = total_elapsed_time / num_iterations\n",
    "    print(f\"Average time for question '{question}': {average_time} seconds\\n\")\n"
   ]
  }
 ],
 "metadata": {
  "kaggle": {
   "accelerator": "nvidiaTeslaT4",
   "dataSources": [
    {
     "modelInstanceId": 5388,
     "sourceId": 11372,
     "sourceType": "modelInstanceVersion"
    }
   ],
   "dockerImageVersionId": 30699,
   "isGpuEnabled": true,
   "isInternetEnabled": true,
   "language": "python",
   "sourceType": "notebook"
  },
  "kernelspec": {
   "display_name": "Python 3",
   "language": "python",
   "name": "python3"
  },
  "language_info": {
   "codemirror_mode": {
    "name": "ipython",
    "version": 3
   },
   "file_extension": ".py",
   "mimetype": "text/x-python",
   "name": "python",
   "nbconvert_exporter": "python",
   "pygments_lexer": "ipython3",
   "version": "3.10.13"
  },
  "papermill": {
   "default_parameters": {},
   "duration": 254.218292,
   "end_time": "2024-04-30T02:03:46.692789",
   "environment_variables": {},
   "exception": null,
   "input_path": "__notebook__.ipynb",
   "output_path": "__notebook__.ipynb",
   "parameters": {},
   "start_time": "2024-04-30T01:59:32.474497",
   "version": "2.5.0"
  }
 },
 "nbformat": 4,
 "nbformat_minor": 5
}
